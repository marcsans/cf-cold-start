{
 "cells": [
  {
   "cell_type": "code",
   "execution_count": 141,
   "metadata": {
    "collapsed": false
   },
   "outputs": [
    {
     "name": "stdout",
     "output_type": "stream",
     "text": [
      "The autoreload extension is already loaded. To reload it, use:\n",
      "  %reload_ext autoreload\n"
     ]
    }
   ],
   "source": [
    "%load_ext autoreload\n",
    "%autoreload 2\n",
    "%matplotlib inline\n",
    "\n",
    "import numpy as np\n",
    "from matrix_factorization import matrix_factorization\n",
    "from graph_init import *\n",
    "from similarity import *\n",
    "from create_R import *\n",
    "from ALS import *\n",
    "from hard_hfs import *\n",
    "import copy\n",
    "import matplotlib.pyplot as plt"
   ]
  },
  {
   "cell_type": "code",
   "execution_count": 142,
   "metadata": {
    "collapsed": true
   },
   "outputs": [],
   "source": [
    "def RMSE(ground, predict):\n",
    "    \n",
    "    error = 0\n",
    "    n = 0\n",
    "    \n",
    "    for i in range(len(ground)):\n",
    "        for j in range(len(ground[0])):\n",
    "            if ground[i,j] != 0:\n",
    "                error += (ground[i,j] - predict[i,j])**2\n",
    "                n += 1\n",
    "                \n",
    "    return np.sqrt(error/n)\n",
    "\n",
    "def RMSEvec(ground, predict):\n",
    "    \n",
    "    error = 0\n",
    "    n = 0\n",
    "    \n",
    "    for i in range(len(ground)):\n",
    "        if ground[i] != 0:\n",
    "            error += (ground[i] - predict[i])**2\n",
    "            n += 1\n",
    "                \n",
    "    return np.sqrt(error/n)\n",
    "\n",
    "def meanError(ground_truth,new_res):\n",
    "    return np.mean(abs((new_res - ground_truth)[ground_truth!=0]))"
   ]
  },
  {
   "cell_type": "code",
   "execution_count": 143,
   "metadata": {
    "collapsed": false
   },
   "outputs": [],
   "source": [
    "def dictfromR(R):\n",
    "\n",
    "    R_dict = {\"Users\": np.empty([0]), \"Movies\": np.empty([0]), \"Ratings\": np.empty([0])}\n",
    "\n",
    "    for i in range(len(R)):\n",
    "        for j in range(len(R[0])):\n",
    "            if R[i,j] != 0:\n",
    "                R_dict[\"Users\"] = np.append(R_dict[\"Users\"],i)\n",
    "                R_dict[\"Movies\"] = np.append(R_dict[\"Movies\"],j)\n",
    "                R_dict[\"Ratings\"] = np.append(R_dict[\"Ratings\"],R[i,j])\n",
    "\n",
    "    return R_dict"
   ]
  },
  {
   "cell_type": "code",
   "execution_count": 144,
   "metadata": {
    "collapsed": false
   },
   "outputs": [
    {
     "name": "stderr",
     "output_type": "stream",
     "text": [
      "/home/marc/Documents/MVA/ProjetGraphes/src/create_R.py:21: VisibleDeprecationWarning: using a non-integer number instead of an integer will result in an error in the future\n",
      "  R[ratingsnp[i,0]-1, ratingsnp[i,-1]] = ratingsnp[i,2]\n"
     ]
    },
    {
     "name": "stdout",
     "output_type": "stream",
     "text": [
      "{'Users': array([   0.,    0.,    0., ...,  670.,  670.,  670.]), 'Ratings': array([ 2.5,  3. ,  3. , ...,  4. ,  2.5,  3.5]), 'Movies': array([   30.,   833.,   859., ...,  4597.,  4610.,  4696.])}\n"
     ]
    }
   ],
   "source": [
    "# R = [\n",
    "#      [5,3,0,1],\n",
    "#      [4,0,0,1],\n",
    "#      [1,1,0,5],\n",
    "#      [1,0,0,4],\n",
    "#      [0,1,5,4],\n",
    "#     ]\n",
    "\n",
    "# R = np.array(R)\n",
    "\n",
    "R,R_dict = create_R()\n",
    "\n",
    "print(R_dict)"
   ]
  },
  {
   "cell_type": "code",
   "execution_count": 145,
   "metadata": {
    "collapsed": false
   },
   "outputs": [
    {
     "name": "stdout",
     "output_type": "stream",
     "text": [
      "[[False False False ..., False False False]\n",
      " [False False False ..., False False False]\n",
      " [False False False ..., False False False]\n",
      " ..., \n",
      " [False False False ..., False False False]\n",
      " [ True False False ..., False False False]\n",
      " [ True False False ..., False False False]]\n"
     ]
    }
   ],
   "source": [
    "P_dict = copy.deepcopy(R_dict)\n",
    "P_dict[\"Ratings\"] = np.ones([len(R_dict[\"Ratings\"])])\n",
    "P = R > 0\n",
    "print(P)"
   ]
  },
  {
   "cell_type": "code",
   "execution_count": 146,
   "metadata": {
    "collapsed": false
   },
   "outputs": [],
   "source": [
    "num_cold = 5\n",
    "cold_movies = np.argsort([np.sum(P[i,:] for i in range(len(P)))][0])[-num_cold:]"
   ]
  },
  {
   "cell_type": "code",
   "execution_count": 147,
   "metadata": {
    "collapsed": false
   },
   "outputs": [],
   "source": [
    "to_keep = 5\n",
    "ground_truth = []\n",
    "sel = []\n",
    "for i,c in enumerate(cold_movies):\n",
    "    sel.append(np.where(R[:,c] != 0)[0])\n",
    "    np.random.shuffle(sel[i])\n",
    "    sel[i] = sel[i][:len(sel[i])-to_keep]\n",
    "    ground_truth.append(copy.deepcopy(R[:,c]))\n",
    "    R[sel[i],c]=0\n",
    "    "
   ]
  },
  {
   "cell_type": "code",
   "execution_count": 148,
   "metadata": {
    "collapsed": true
   },
   "outputs": [],
   "source": [
    "R_dictCopy = copy.deepcopy(R_dict)\n",
    "R_dict = dictfromR(R)"
   ]
  },
  {
   "cell_type": "code",
   "execution_count": 149,
   "metadata": {
    "collapsed": false
   },
   "outputs": [
    {
     "data": {
      "text/plain": [
       "(array([13896, 20198, 34976, 52367, 57123]),)"
      ]
     },
     "execution_count": 149,
     "metadata": {},
     "output_type": "execute_result"
    }
   ],
   "source": [
    "np.where(R_dict['Movies'] == 321)"
   ]
  },
  {
   "cell_type": "code",
   "execution_count": 150,
   "metadata": {
    "collapsed": false
   },
   "outputs": [
    {
     "name": "stdout",
     "output_type": "stream",
     "text": [
      "Als created\n"
     ]
    }
   ],
   "source": [
    "N = len(R)\n",
    "M = len(R[0])\n",
    "K = 4\n",
    "\n",
    "# P = np.random.rand(N,K)\n",
    "# Q = np.random.rand(M,K)\n",
    "\n",
    "# nP, nQ = matrix_factorization(R, P, Q, K)\n",
    "\n",
    "als = ALS(K,N,M,\"Users\",\"Movies\",\"Ratings\",lbda = 0.1,lbda2 = 0.1)\n",
    "print(\"Als created\")\n",
    "ans = als.fit(R_dict)\n",
    "\n",
    "# nR = np.dot(nP, nQ.T)\n",
    "\n",
    "# print(nP, \"\\n\\n\", nQ)"
   ]
  },
  {
   "cell_type": "code",
   "execution_count": 151,
   "metadata": {
    "collapsed": false
   },
   "outputs": [],
   "source": [
    "R_rec = np.dot(als.U,np.transpose(als.V))"
   ]
  },
  {
   "cell_type": "code",
   "execution_count": 152,
   "metadata": {
    "collapsed": false
   },
   "outputs": [
    {
     "name": "stdout",
     "output_type": "stream",
     "text": [
      "0.699343983692\n",
      "0.921908953239\n"
     ]
    }
   ],
   "source": [
    "print(RMSE(R,R_rec))\n",
    "print(RMSE(R,(R_rec-np.min(R_rec))*5/np.max(R_rec-np.min(R_rec))))"
   ]
  },
  {
   "cell_type": "code",
   "execution_count": 153,
   "metadata": {
    "collapsed": false
   },
   "outputs": [
    {
     "name": "stdout",
     "output_type": "stream",
     "text": [
      "0.985627858389\n",
      "1.02384824386\n",
      "1.0649895437\n",
      "1.0872626417\n",
      "0.9933353707\n"
     ]
    }
   ],
   "source": [
    "for i in range(num_cold):\n",
    "    print(RMSEvec(ground_truth[i], R_rec[:,321]))"
   ]
  },
  {
   "cell_type": "code",
   "execution_count": 154,
   "metadata": {
    "collapsed": false
   },
   "outputs": [
    {
     "data": {
      "text/plain": [
       "array([[ 0.,  0.,  0., ...,  0.,  0.,  0.],\n",
       "       [ 0.,  0.,  0., ...,  0.,  0.,  0.],\n",
       "       [ 0.,  0.,  0., ...,  0.,  0.,  0.],\n",
       "       ..., \n",
       "       [ 0.,  0.,  0., ...,  0.,  0.,  0.],\n",
       "       [ 4.,  0.,  0., ...,  0.,  0.,  0.],\n",
       "       [ 5.,  0.,  0., ...,  0.,  0.,  0.]])"
      ]
     },
     "execution_count": 154,
     "metadata": {},
     "output_type": "execute_result"
    }
   ],
   "source": [
    "R"
   ]
  },
  {
   "cell_type": "code",
   "execution_count": 155,
   "metadata": {
    "collapsed": false
   },
   "outputs": [
    {
     "data": {
      "text/plain": [
       "8.7346122364568544"
      ]
     },
     "execution_count": 155,
     "metadata": {},
     "output_type": "execute_result"
    }
   ],
   "source": [
    "np.max(R_rec)"
   ]
  },
  {
   "cell_type": "code",
   "execution_count": 156,
   "metadata": {
    "collapsed": false
   },
   "outputs": [
    {
     "name": "stdout",
     "output_type": "stream",
     "text": [
      "[[ 0.  0.  0. ...,  0.  0.  0.]\n",
      " [ 0.  0.  0. ...,  0.  0.  0.]\n",
      " [ 0.  0.  0. ...,  0.  0.  0.]\n",
      " ..., \n",
      " [ 0.  0.  0. ...,  0.  0.  0.]\n",
      " [ 0.  0.  0. ...,  0.  0.  0.]\n",
      " [ 0.  0.  0. ...,  0.  0.  0.]]\n"
     ]
    }
   ],
   "source": [
    "lp = LaplacianParams()\n",
    "\n",
    "# sim = similarity(als.U)\n",
    "sim = build_graph(als.U, GraphParams())\n",
    "# Seems to work better with U... \n",
    "\n",
    "print(sim)"
   ]
  },
  {
   "cell_type": "code",
   "execution_count": 157,
   "metadata": {
    "collapsed": false,
    "scrolled": true
   },
   "outputs": [
    {
     "name": "stdout",
     "output_type": "stream",
     "text": [
      "(671, 671)\n"
     ]
    }
   ],
   "source": [
    "L = build_laplacian(sim,lp)\n",
    "\n",
    "print(L.shape)"
   ]
  },
  {
   "cell_type": "code",
   "execution_count": 158,
   "metadata": {
    "collapsed": false
   },
   "outputs": [
    {
     "data": {
      "text/plain": [
       "(671,)"
      ]
     },
     "execution_count": 158,
     "metadata": {},
     "output_type": "execute_result"
    }
   ],
   "source": [
    "supp = 100\n",
    "test_vec = copy.deepcopy(R[:,321])*2\n",
    "# test_vec[:supp] = [0 for i in range(supp)]\n",
    "test_vec.shape"
   ]
  },
  {
   "cell_type": "code",
   "execution_count": 159,
   "metadata": {
    "collapsed": false
   },
   "outputs": [],
   "source": [
    "# test_vec"
   ]
  },
  {
   "cell_type": "code",
   "execution_count": 160,
   "metadata": {
    "collapsed": false
   },
   "outputs": [
    {
     "name": "stderr",
     "output_type": "stream",
     "text": [
      "/home/marc/anaconda3/lib/python3.5/site-packages/numpy/core/numeric.py:190: VisibleDeprecationWarning: using a non-integer number instead of an integer will result in an error in the future\n",
      "  a = empty(shape, dtype, order)\n"
     ]
    }
   ],
   "source": [
    "hfs0, confidence = simple_hfs(als.U, test_vec, L, sim)\n",
    "# hfs0/2"
   ]
  },
  {
   "cell_type": "code",
   "execution_count": 161,
   "metadata": {
    "collapsed": false
   },
   "outputs": [],
   "source": [
    "maxconfidences = np.array([max(confidence[i,:]) for i in range(len(confidence))])"
   ]
  },
  {
   "cell_type": "code",
   "execution_count": 162,
   "metadata": {
    "collapsed": false
   },
   "outputs": [
    {
     "name": "stdout",
     "output_type": "stream",
     "text": [
      "0.967875185436\n",
      "1.23220560066\n",
      "0.816880673931\n",
      "0.839941146207\n",
      "0.988814010473\n"
     ]
    }
   ],
   "source": [
    "lim = np.percentile(maxconfidences, 1)\n",
    "for i in range(num_cold):\n",
    "#     print(RMSEvec(ground_truth[i]*(maxconfidences > lim),hfs0/2))\n",
    "    print(RMSEvec(ground_truth[i]*(maxconfidences > lim), R_rec[:,cold_movies[i]]))"
   ]
  },
  {
   "cell_type": "code",
   "execution_count": 163,
   "metadata": {
    "collapsed": false
   },
   "outputs": [
    {
     "name": "stdout",
     "output_type": "stream",
     "text": [
      "0.787283626648\n",
      "0.943809639659\n",
      "0.633564022911\n",
      "0.685569595557\n",
      "0.780961214644\n"
     ]
    }
   ],
   "source": [
    "for i in range(num_cold):\n",
    "#     print(meanError(ground_truth[i],hfs0/2))\n",
    "    print(meanError(ground_truth[i],R_rec[:,cold_movies[i]]))"
   ]
  },
  {
   "cell_type": "code",
   "execution_count": 164,
   "metadata": {
    "collapsed": false
   },
   "outputs": [],
   "source": [
    "# elmnt = 321\n",
    "# val = []\n",
    "# print(RMSEvec(R[:,elmnt],R_rec[:,elmnt]))\n",
    "# for supp in range(1,671,10):\n",
    "#     test_vec = copy.deepcopy(R[:,elmnt])*2\n",
    "#     test_vec[:supp] = [0 for i in range(supp)]\n",
    "\n",
    "#     hfs0 = simple_hfs(als.U, test_vec, L, sim)\n",
    "#     val.append(RMSEvec(R[:,elmnt],hfs0/2))\n",
    "    \n",
    "# plt.plot(range(1,671,10),val)"
   ]
  },
  {
   "cell_type": "code",
   "execution_count": 165,
   "metadata": {
    "collapsed": false
   },
   "outputs": [
    {
     "name": "stdout",
     "output_type": "stream",
     "text": [
      "0\n"
     ]
    },
    {
     "name": "stderr",
     "output_type": "stream",
     "text": [
      "/home/marc/anaconda3/lib/python3.5/site-packages/numpy/core/numeric.py:190: VisibleDeprecationWarning: using a non-integer number instead of an integer will result in an error in the future\n",
      "  a = empty(shape, dtype, order)\n"
     ]
    },
    {
     "name": "stdout",
     "output_type": "stream",
     "text": [
      "1000\n",
      "2000\n",
      "3000\n",
      "4000\n",
      "5000\n",
      "6000\n",
      "7000\n",
      "8000\n",
      "9000\n"
     ]
    }
   ],
   "source": [
    "lhfs = []\n",
    "lconf = []\n",
    "for i in range(len(R[0])):\n",
    "    if i%1000 == 0:\n",
    "        print(i)\n",
    "    hfs0, confidence = simple_hfs(als.U, R[:,i]*2, L, sim)\n",
    "    maxconfidences = np.array([max(confidence[i,:]) for i in range(len(confidence))])\n",
    "    \n",
    "    lim = np.percentile(maxconfidences, 95)\n",
    "    \n",
    "    lhfs.append(hfs0/2)\n",
    "    lconf.append(maxconfidences > lim)\n",
    "\n",
    "R_barre = np.vstack(lhfs).T\n",
    "confs = np.vstack(lconf).T\n",
    "    \n",
    "# R_barre[R_barre < 1] = .5\n",
    "# R_barre[R_barre > 5] = 5"
   ]
  },
  {
   "cell_type": "code",
   "execution_count": 166,
   "metadata": {
    "collapsed": false
   },
   "outputs": [],
   "source": [
    "R_barre_limited = R_barre * confs"
   ]
  },
  {
   "cell_type": "code",
   "execution_count": 167,
   "metadata": {
    "collapsed": false
   },
   "outputs": [
    {
     "data": {
      "text/plain": [
       "array([   0.,    0.,    0., ...,  170.,  102.,  170.])"
      ]
     },
     "execution_count": 167,
     "metadata": {},
     "output_type": "execute_result"
    }
   ],
   "source": [
    "sum(R_barre_limited)"
   ]
  },
  {
   "cell_type": "code",
   "execution_count": 168,
   "metadata": {
    "collapsed": false
   },
   "outputs": [
    {
     "name": "stdout",
     "output_type": "stream",
     "text": [
      "0.500344487029\n"
     ]
    }
   ],
   "source": [
    "print(RMSE(R_barre_limited,R_rec))"
   ]
  },
  {
   "cell_type": "code",
   "execution_count": 169,
   "metadata": {
    "collapsed": false
   },
   "outputs": [],
   "source": [
    "R_barre_final = copy.deepcopy(R_barre_limited)\n",
    "R_barre_final[R != 0] = 0"
   ]
  },
  {
   "cell_type": "code",
   "execution_count": 170,
   "metadata": {
    "collapsed": false
   },
   "outputs": [],
   "source": [
    "# R_dict_barre = dictfromR(R_barre_final)"
   ]
  },
  {
   "cell_type": "code",
   "execution_count": 171,
   "metadata": {
    "collapsed": false
   },
   "outputs": [
    {
     "name": "stdout",
     "output_type": "stream",
     "text": [
      "Als created\n"
     ]
    }
   ],
   "source": [
    "N = len(R)\n",
    "M = len(R[0])\n",
    "K = 4\n",
    "\n",
    "als_trans = ALS(K,N,M,\"Users\",\"Movies\",\"Ratings\",lbda = 0.1,lbda2 = 0.1)\n",
    "print(\"Als created\")\n",
    "\n",
    "ans = als_trans.fitTransductive(R_dict,R_barre_final,C1=1,C2=0.1)"
   ]
  },
  {
   "cell_type": "code",
   "execution_count": 172,
   "metadata": {
    "collapsed": false
   },
   "outputs": [
    {
     "name": "stdout",
     "output_type": "stream",
     "text": [
      "0.43791864845\n"
     ]
    }
   ],
   "source": [
    "R_rec_trans = np.dot(als_trans.U,np.transpose(als_trans.V))\n",
    "print(RMSE(R_rec_trans,R_rec))"
   ]
  },
  {
   "cell_type": "code",
   "execution_count": 176,
   "metadata": {
    "collapsed": false
   },
   "outputs": [
    {
     "name": "stdout",
     "output_type": "stream",
     "text": [
      "movie 1\n",
      "0.991873083906\n",
      "0.966816365453\n",
      "0.947131893418\n",
      "movie 2\n",
      "1.18041594714\n",
      "1.22940789828\n",
      "1.33278497496\n",
      "movie 3\n",
      "0.822343741064\n",
      "0.81956460168\n",
      "1.05475115549\n",
      "movie 4\n",
      "0.8452482168\n",
      "0.840963220711\n",
      "0.82247832083\n",
      "movie 5\n",
      "0.822570994987\n",
      "0.9933353707\n",
      "1.19023807142\n"
     ]
    }
   ],
   "source": [
    "for i in range(num_cold):\n",
    "    print(\"movie \"+str(i+1))\n",
    "    print(RMSEvec(ground_truth[i],R_rec_trans[:,cold_movies[i]]))\n",
    "    print(RMSEvec(ground_truth[i],R_rec[:,cold_movies[i]]))\n",
    "    print(RMSEvec(R_barre_limited[:,cold_movies[i]]*(ground_truth[i]>0),ground_truth[i]))"
   ]
  },
  {
   "cell_type": "markdown",
   "metadata": {},
   "source": [
    "0.930864602802\n",
    "0.97011494657\n",
    "1.00036650175 (90 1 0.1)\n",
    "\n",
    "0.910201784408\n",
    "0.97011494657\n",
    "1.00036650175 (90 1 0.5)\n",
    "\n",
    "0.931048133417\n",
    "0.97011494657\n",
    "1.00036650175 (95 1 0.5)"
   ]
  },
  {
   "cell_type": "code",
   "execution_count": 174,
   "metadata": {
    "collapsed": false
   },
   "outputs": [
    {
     "data": {
      "text/plain": [
       "array([[ 4. ,  3. ,  4. , ...,  5. ,  3. ,  5. ],\n",
       "       [ 4. ,  3. ,  3. , ...,  5. ,  3. ,  5. ],\n",
       "       [ 4. ,  3. ,  3. , ...,  5. ,  3. ,  5. ],\n",
       "       ..., \n",
       "       [ 5. ,  3.5,  3.5, ...,  5. ,  3. ,  5. ],\n",
       "       [ 4. ,  4. ,  2. , ...,  5. ,  3. ,  5. ],\n",
       "       [ 5. ,  3.5,  4. , ...,  5. ,  3. ,  5. ]])"
      ]
     },
     "execution_count": 174,
     "metadata": {},
     "output_type": "execute_result"
    }
   ],
   "source": [
    "R_barre"
   ]
  },
  {
   "cell_type": "code",
   "execution_count": null,
   "metadata": {
    "collapsed": true
   },
   "outputs": [],
   "source": []
  }
 ],
 "metadata": {
  "anaconda-cloud": {},
  "kernelspec": {
   "display_name": "Python [conda root]",
   "language": "python",
   "name": "conda-root-py"
  },
  "language_info": {
   "codemirror_mode": {
    "name": "ipython",
    "version": 3
   },
   "file_extension": ".py",
   "mimetype": "text/x-python",
   "name": "python",
   "nbconvert_exporter": "python",
   "pygments_lexer": "ipython3",
   "version": "3.5.2"
  }
 },
 "nbformat": 4,
 "nbformat_minor": 1
}

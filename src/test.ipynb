{
 "cells": [
  {
   "cell_type": "code",
   "execution_count": 1,
   "metadata": {
    "collapsed": false
   },
   "outputs": [],
   "source": [
    "%load_ext autoreload\n",
    "%autoreload 2\n",
    "\n",
    "import numpy as np\n",
    "from matrix_factorization import matrix_factorization\n",
    "from graph_init import *\n",
    "from similarity import *\n",
    "from create_R import *\n",
    "from ALS import *\n",
    "from hard_hfs import *\n",
    "import copy"
   ]
  },
  {
   "cell_type": "code",
   "execution_count": 2,
   "metadata": {
    "collapsed": true
   },
   "outputs": [],
   "source": [
    "def RMSE(ground, predict):\n",
    "    \n",
    "    error = 0\n",
    "    n = 0\n",
    "    \n",
    "    for i in range(len(ground)):\n",
    "        for j in range(len(ground[0])):\n",
    "            if ground[i,j] != 0:\n",
    "                error += (ground[i,j] - predict[i,j])**2\n",
    "                n += 1\n",
    "                \n",
    "    return np.sqrt(error/n)"
   ]
  },
  {
   "cell_type": "code",
   "execution_count": 3,
   "metadata": {
    "collapsed": false
   },
   "outputs": [
    {
     "name": "stderr",
     "output_type": "stream",
     "text": [
      "/home/marc/Documents/MVA/ProjetGraphes/src/create_R.py:21: VisibleDeprecationWarning: using a non-integer number instead of an integer will result in an error in the future\n",
      "  R[ratingsnp[i,0]-1, ratingsnp[i,-1]] = ratingsnp[i,2]\n"
     ]
    },
    {
     "name": "stdout",
     "output_type": "stream",
     "text": [
      "{'Users': array([   0.,    0.,    0., ...,  670.,  670.,  670.]), 'Movies': array([   30.,   833.,   859., ...,  4597.,  4610.,  4696.]), 'Ratings': array([ 2.5,  3. ,  3. , ...,  4. ,  2.5,  3.5])}\n"
     ]
    }
   ],
   "source": [
    "# R = [\n",
    "#      [5,3,0,1],\n",
    "#      [4,0,0,1],\n",
    "#      [1,1,0,5],\n",
    "#      [1,0,0,4],\n",
    "#      [0,1,5,4],\n",
    "#     ]\n",
    "\n",
    "# R = np.array(R)\n",
    "\n",
    "R,R_dict = create_R()\n",
    "\n",
    "print(R_dict)"
   ]
  },
  {
   "cell_type": "code",
   "execution_count": 4,
   "metadata": {
    "collapsed": false
   },
   "outputs": [
    {
     "name": "stdout",
     "output_type": "stream",
     "text": [
      "[[False False False ..., False False False]\n",
      " [False False False ..., False False False]\n",
      " [False False False ..., False False False]\n",
      " ..., \n",
      " [False False False ..., False False False]\n",
      " [ True False False ..., False False False]\n",
      " [ True False False ..., False False False]]\n"
     ]
    }
   ],
   "source": [
    "P_dict = copy.deepcopy(R_dict)\n",
    "P_dict[\"Ratings\"] = np.ones([len(R_dict[\"Ratings\"])])\n",
    "P = R > 0\n",
    "print(P)"
   ]
  },
  {
   "cell_type": "code",
   "execution_count": 5,
   "metadata": {
    "collapsed": false
   },
   "outputs": [
    {
     "name": "stdout",
     "output_type": "stream",
     "text": [
      "Als created\n"
     ]
    }
   ],
   "source": [
    "N = len(R)\n",
    "M = len(R[0])\n",
    "K = 4\n",
    "\n",
    "# P = np.random.rand(N,K)\n",
    "# Q = np.random.rand(M,K)\n",
    "\n",
    "# nP, nQ = matrix_factorization(R, P, Q, K)\n",
    "\n",
    "als = ALS(K,N,M,\"Users\",\"Movies\",\"Ratings\",lbda = 0.1,lbda2 = 0.1)\n",
    "print(\"Als created\")\n",
    "ans = als.fitImplicit(P_dict, alpha = 1, c = \"log\")\n",
    "\n",
    "# nR = np.dot(nP, nQ.T)\n",
    "\n",
    "# print(nP, \"\\n\\n\", nQ)"
   ]
  },
  {
   "cell_type": "code",
   "execution_count": 6,
   "metadata": {
    "collapsed": false
   },
   "outputs": [
    {
     "data": {
      "text/plain": [
       "array([[ 0.07681321, -0.13825379,  0.05134058, -0.04214472],\n",
       "       [ 0.1590468 , -0.30002444,  0.20382886, -0.22771697],\n",
       "       [ 0.01442915, -0.28866064,  0.07008824, -0.18833544],\n",
       "       ..., \n",
       "       [ 0.11919088, -0.19569136,  0.00074576, -0.04450658],\n",
       "       [ 0.04358653, -0.23326602,  0.12605617, -0.17099388],\n",
       "       [-0.01560695, -0.39175547,  0.17299209, -0.22690621]])"
      ]
     },
     "execution_count": 6,
     "metadata": {},
     "output_type": "execute_result"
    }
   ],
   "source": [
    "als.U"
   ]
  },
  {
   "cell_type": "code",
   "execution_count": 7,
   "metadata": {
    "collapsed": false
   },
   "outputs": [
    {
     "data": {
      "text/plain": [
       "array([[ 0.30602635, -2.14325065,  0.3590047 , -0.65632635],\n",
       "       [ 0.57560618, -1.85319394, -0.09092429, -0.48664782],\n",
       "       [ 1.10823851, -1.43895913,  0.03879683, -0.21305967],\n",
       "       ..., \n",
       "       [-0.0715317 , -0.03614584, -0.06034751, -0.1229135 ],\n",
       "       [-0.0715317 , -0.03614584, -0.06034751, -0.1229135 ],\n",
       "       [-0.33336911, -0.20255162,  0.24005682,  0.53362769]])"
      ]
     },
     "execution_count": 7,
     "metadata": {},
     "output_type": "execute_result"
    }
   ],
   "source": [
    "als.V"
   ]
  },
  {
   "cell_type": "code",
   "execution_count": 8,
   "metadata": {
    "collapsed": false
   },
   "outputs": [
    {
     "name": "stdout",
     "output_type": "stream",
     "text": [
      "[[ 0.3659116   0.31626678  0.29504011 ...,  0.0015846   0.0015846\n",
      "  -0.00776855]\n",
      " [ 0.91433225  0.73983676  0.66440991 ...,  0.01515667  0.01515667\n",
      "  -0.06483642]\n",
      " [ 0.77185932  0.62852996  0.47420769 ...,  0.02832106  0.02832106\n",
      "  -0.0300174 ]\n",
      " ..., \n",
      " [ 0.48536977  0.45285228  0.42319529 ...,  0.00397296  0.00397296\n",
      "  -0.02366787]\n",
      " [ 0.67076872  0.52912808  0.42528702 ...,  0.01872406  0.01872406\n",
      "  -0.02826842]\n",
      " [ 1.04588352  0.81170963  0.60147999 ...,  0.03272692  0.03272692\n",
      "   0.00499808]]\n"
     ]
    }
   ],
   "source": [
    "R_rec = np.dot(als.U,np.transpose(als.V))\n",
    "# print(2*(R_rec-np.min(R_rec))*5/np.max(R_rec-np.min(R_rec))/2)\n",
    "print(R_rec)"
   ]
  },
  {
   "cell_type": "code",
   "execution_count": 9,
   "metadata": {
    "collapsed": false
   },
   "outputs": [
    {
     "name": "stdout",
     "output_type": "stream",
     "text": [
      "0.387185346333\n",
      "0.325535421738\n"
     ]
    }
   ],
   "source": [
    "print(RMSE(P,R_rec))\n",
    "print(RMSE(P,(R_rec-np.min(R_rec))*1/np.max(R_rec-np.min(R_rec))))"
   ]
  },
  {
   "cell_type": "code",
   "execution_count": 10,
   "metadata": {
    "collapsed": false
   },
   "outputs": [
    {
     "data": {
      "text/plain": [
       "array([[ 0.,  0.,  0., ...,  0.,  0.,  0.],\n",
       "       [ 0.,  0.,  0., ...,  0.,  0.,  0.],\n",
       "       [ 0.,  0.,  0., ...,  0.,  0.,  0.],\n",
       "       ..., \n",
       "       [ 0.,  0.,  0., ...,  0.,  0.,  0.],\n",
       "       [ 4.,  0.,  0., ...,  0.,  0.,  0.],\n",
       "       [ 5.,  0.,  0., ...,  0.,  0.,  0.]])"
      ]
     },
     "execution_count": 10,
     "metadata": {},
     "output_type": "execute_result"
    }
   ],
   "source": [
    "R"
   ]
  },
  {
   "cell_type": "code",
   "execution_count": 11,
   "metadata": {
    "collapsed": false
   },
   "outputs": [
    {
     "data": {
      "text/plain": [
       "1.5789676258706624"
      ]
     },
     "execution_count": 11,
     "metadata": {},
     "output_type": "execute_result"
    }
   ],
   "source": [
    "np.max(R_rec)"
   ]
  },
  {
   "cell_type": "code",
   "execution_count": 12,
   "metadata": {
    "collapsed": false
   },
   "outputs": [
    {
     "name": "stdout",
     "output_type": "stream",
     "text": [
      "[[  1.00000000e+03   7.94282993e-01   7.71258084e-01 ...,   6.79686675e-01\n",
      "    6.79686675e-01   6.41704554e-01]\n",
      " [  7.94282993e-01   1.00000000e+03   7.86505756e-01 ...,   6.75496157e-01\n",
      "    6.75496157e-01   6.27369921e-01]\n",
      " [  7.71258084e-01   7.86505756e-01   1.00000000e+03 ...,   6.34702126e-01\n",
      "    6.34702126e-01   6.18451862e-01]\n",
      " ..., \n",
      " [  6.79686675e-01   6.75496157e-01   6.34702126e-01 ...,   1.00000000e+03\n",
      "    8.01378230e-01   5.84186051e-01]\n",
      " [  6.79686675e-01   6.75496157e-01   6.34702126e-01 ...,   8.01378230e-01\n",
      "    1.00000000e+03   5.84186051e-01]\n",
      " [  6.41704554e-01   6.27369921e-01   6.18451862e-01 ...,   5.84186051e-01\n",
      "    5.84186051e-01   1.00000000e+03]]\n"
     ]
    }
   ],
   "source": [
    "lp = LaplacianParams()\n",
    "\n",
    "sim = similarity(als.V)\n",
    "\n",
    "print(sim)"
   ]
  },
  {
   "cell_type": "code",
   "execution_count": 13,
   "metadata": {
    "collapsed": false,
    "scrolled": true
   },
   "outputs": [
    {
     "name": "stdout",
     "output_type": "stream",
     "text": [
      "[[  8.06605000e+03  -7.94282993e-01  -7.71258084e-01 ...,  -6.79686675e-01\n",
      "   -6.79686675e-01  -6.41704554e-01]\n",
      " [ -7.94282993e-01   8.06605000e+03  -7.86505756e-01 ...,  -6.75496157e-01\n",
      "   -6.75496157e-01  -6.27369921e-01]\n",
      " [ -7.71258084e-01  -7.86505756e-01   8.06605000e+03 ...,  -6.34702126e-01\n",
      "   -6.34702126e-01  -6.18451862e-01]\n",
      " ..., \n",
      " [ -6.79686675e-01  -6.75496157e-01  -6.34702126e-01 ...,   8.06605000e+03\n",
      "   -8.01378230e-01  -5.84186051e-01]\n",
      " [ -6.79686675e-01  -6.75496157e-01  -6.34702126e-01 ...,  -8.01378230e-01\n",
      "    8.06605000e+03  -5.84186051e-01]\n",
      " [ -6.41704554e-01  -6.27369921e-01  -6.18451862e-01 ...,  -5.84186051e-01\n",
      "   -5.84186051e-01   8.06605000e+03]]\n"
     ]
    }
   ],
   "source": [
    "L = build_laplacian(sim,lp)\n",
    "\n",
    "print(L)"
   ]
  },
  {
   "cell_type": "code",
   "execution_count": null,
   "metadata": {
    "collapsed": false
   },
   "outputs": [],
   "source": [
    "hfs0 = soft_hfs(als.V, P[0]+1, 100, 1, L)"
   ]
  },
  {
   "cell_type": "code",
   "execution_count": 67,
   "metadata": {
    "collapsed": false
   },
   "outputs": [
    {
     "data": {
      "text/plain": [
       "array([0, 0, 0, ..., 0, 0, 0])"
      ]
     },
     "execution_count": 67,
     "metadata": {},
     "output_type": "execute_result"
    }
   ],
   "source": [
    "hfs0"
   ]
  },
  {
   "cell_type": "code",
   "execution_count": 74,
   "metadata": {
    "collapsed": false,
    "scrolled": true
   },
   "outputs": [
    {
     "data": {
      "text/plain": [
       "-0.00033666922728044094"
      ]
     },
     "execution_count": 74,
     "metadata": {},
     "output_type": "execute_result"
    }
   ],
   "source": [
    "np.max(hfs0[1])"
   ]
  },
  {
   "cell_type": "code",
   "execution_count": 76,
   "metadata": {
    "collapsed": false,
    "scrolled": true
   },
   "outputs": [
    {
     "data": {
      "text/plain": [
       "0.00037000066897167227"
      ]
     },
     "execution_count": 76,
     "metadata": {},
     "output_type": "execute_result"
    }
   ],
   "source": [
    "np.max(hfs0[0][P[0]!=0])"
   ]
  },
  {
   "cell_type": "code",
   "execution_count": null,
   "metadata": {
    "collapsed": true
   },
   "outputs": [],
   "source": []
  }
 ],
 "metadata": {
  "anaconda-cloud": {},
  "kernelspec": {
   "display_name": "Python [conda root]",
   "language": "python",
   "name": "conda-root-py"
  },
  "language_info": {
   "codemirror_mode": {
    "name": "ipython",
    "version": 3
   },
   "file_extension": ".py",
   "mimetype": "text/x-python",
   "name": "python",
   "nbconvert_exporter": "python",
   "pygments_lexer": "ipython3",
   "version": "3.5.2"
  }
 },
 "nbformat": 4,
 "nbformat_minor": 1
}

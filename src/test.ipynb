{
 "cells": [
  {
   "cell_type": "code",
   "execution_count": 55,
   "metadata": {
    "collapsed": false
   },
   "outputs": [
    {
     "name": "stdout",
     "output_type": "stream",
     "text": [
      "The autoreload extension is already loaded. To reload it, use:\n",
      "  %reload_ext autoreload\n"
     ]
    }
   ],
   "source": [
    "%load_ext autoreload\n",
    "%autoreload 2\n",
    "%matplotlib inline\n",
    "\n",
    "import numpy as np\n",
    "from matrix_factorization import matrix_factorization\n",
    "from graph_init import *\n",
    "from similarity import *\n",
    "from create_R import *\n",
    "from ALS import *\n",
    "from hard_hfs import *\n",
    "import copy\n",
    "import matplotlib.pyplot as plt"
   ]
  },
  {
   "cell_type": "code",
   "execution_count": 178,
   "metadata": {
    "collapsed": true
   },
   "outputs": [],
   "source": [
    "def RMSE(ground, predict):\n",
    "    \n",
    "    error = 0\n",
    "    n = 0\n",
    "    \n",
    "    for i in range(len(ground)):\n",
    "        for j in range(len(ground[0])):\n",
    "            if ground[i,j] != 0:\n",
    "                error += (ground[i,j] - predict[i,j])**2\n",
    "                n += 1\n",
    "                \n",
    "    return np.sqrt(error/n)\n",
    "\n",
    "def RMSEvec(ground, predict):\n",
    "    \n",
    "    error = 0\n",
    "    n = 0\n",
    "    \n",
    "    for i in range(len(ground)):\n",
    "        if ground[i] != 0:\n",
    "            error += (ground[i] - predict[i])**2\n",
    "            n += 1\n",
    "                \n",
    "    return np.sqrt(error/n)\n",
    "\n",
    "def meanError(ground_truth,new_res):\n",
    "    return np.mean(abs((new_res - ground_truth)[ground_truth!=0]))"
   ]
  },
  {
   "cell_type": "code",
   "execution_count": 112,
   "metadata": {
    "collapsed": false
   },
   "outputs": [],
   "source": [
    "def dictfromR(R):\n",
    "\n",
    "    R_dict = {\"Users\": np.empty([0]), \"Movies\": np.empty([0]), \"Ratings\": np.empty([0])}\n",
    "\n",
    "    for i in range(len(R)):\n",
    "        for j in range(len(R[0])):\n",
    "            if R[i,j] != 0:\n",
    "                R_dict[\"Users\"] = np.append(R_dict[\"Users\"],i)\n",
    "                R_dict[\"Movies\"] = np.append(R_dict[\"Movies\"],j)\n",
    "                R_dict[\"Ratings\"] = np.append(R_dict[\"Ratings\"],R[i,j])\n",
    "\n",
    "    return R_dict"
   ]
  },
  {
   "cell_type": "code",
   "execution_count": 289,
   "metadata": {
    "collapsed": false
   },
   "outputs": [
    {
     "name": "stderr",
     "output_type": "stream",
     "text": [
      "/home/marc/Documents/MVA/ProjetGraphes/src/create_R.py:21: VisibleDeprecationWarning: using a non-integer number instead of an integer will result in an error in the future\n",
      "  R[ratingsnp[i,0]-1, ratingsnp[i,-1]] = ratingsnp[i,2]\n"
     ]
    },
    {
     "name": "stdout",
     "output_type": "stream",
     "text": [
      "{'Movies': array([   30.,   833.,   859., ...,  4597.,  4610.,  4696.]), 'Users': array([   0.,    0.,    0., ...,  670.,  670.,  670.]), 'Ratings': array([ 2.5,  3. ,  3. , ...,  4. ,  2.5,  3.5])}\n"
     ]
    }
   ],
   "source": [
    "# R = [\n",
    "#      [5,3,0,1],\n",
    "#      [4,0,0,1],\n",
    "#      [1,1,0,5],\n",
    "#      [1,0,0,4],\n",
    "#      [0,1,5,4],\n",
    "#     ]\n",
    "\n",
    "# R = np.array(R)\n",
    "\n",
    "R,R_dict = create_R()\n",
    "\n",
    "print(R_dict)"
   ]
  },
  {
   "cell_type": "code",
   "execution_count": 290,
   "metadata": {
    "collapsed": false
   },
   "outputs": [
    {
     "name": "stdout",
     "output_type": "stream",
     "text": [
      "[[False False False ..., False False False]\n",
      " [False False False ..., False False False]\n",
      " [False False False ..., False False False]\n",
      " ..., \n",
      " [False False False ..., False False False]\n",
      " [ True False False ..., False False False]\n",
      " [ True False False ..., False False False]]\n"
     ]
    }
   ],
   "source": [
    "P_dict = copy.deepcopy(R_dict)\n",
    "P_dict[\"Ratings\"] = np.ones([len(R_dict[\"Ratings\"])])\n",
    "P = R > 0\n",
    "print(P)"
   ]
  },
  {
   "cell_type": "code",
   "execution_count": 291,
   "metadata": {
    "collapsed": false
   },
   "outputs": [
    {
     "data": {
      "text/plain": [
       "321"
      ]
     },
     "execution_count": 291,
     "metadata": {},
     "output_type": "execute_result"
    }
   ],
   "source": [
    "np.argmax([np.sum(P[i,:] for i in range(len(P)))][0])"
   ]
  },
  {
   "cell_type": "code",
   "execution_count": 292,
   "metadata": {
    "collapsed": false
   },
   "outputs": [],
   "source": [
    "to_keep = 3\n",
    "sel = np.where(R[:,321] != 0)[0]\n",
    "np.random.shuffle(sel)\n",
    "sel = sel[:len(sel)-to_keep]"
   ]
  },
  {
   "cell_type": "code",
   "execution_count": 293,
   "metadata": {
    "collapsed": false
   },
   "outputs": [],
   "source": [
    "ground_truth = copy.deepcopy(R[:,321])\n",
    "R[sel,321] = 0"
   ]
  },
  {
   "cell_type": "code",
   "execution_count": 294,
   "metadata": {
    "collapsed": false
   },
   "outputs": [
    {
     "data": {
      "text/plain": [
       "3"
      ]
     },
     "execution_count": 294,
     "metadata": {},
     "output_type": "execute_result"
    }
   ],
   "source": [
    "np.sum(R[:,321] != 0)"
   ]
  },
  {
   "cell_type": "code",
   "execution_count": 295,
   "metadata": {
    "collapsed": true
   },
   "outputs": [],
   "source": [
    "R_dictCopy = copy.deepcopy(R_dict)\n",
    "R_dict = dictfromR(R)"
   ]
  },
  {
   "cell_type": "code",
   "execution_count": 296,
   "metadata": {
    "collapsed": false
   },
   "outputs": [
    {
     "data": {
      "text/plain": [
       "(array([25688, 38239, 70608]),)"
      ]
     },
     "execution_count": 296,
     "metadata": {},
     "output_type": "execute_result"
    }
   ],
   "source": [
    "np.where(R_dict['Movies'] == 321)"
   ]
  },
  {
   "cell_type": "code",
   "execution_count": 297,
   "metadata": {
    "collapsed": false
   },
   "outputs": [
    {
     "name": "stdout",
     "output_type": "stream",
     "text": [
      "Als created\n"
     ]
    }
   ],
   "source": [
    "N = len(R)\n",
    "M = len(R[0])\n",
    "K = 4\n",
    "\n",
    "# P = np.random.rand(N,K)\n",
    "# Q = np.random.rand(M,K)\n",
    "\n",
    "# nP, nQ = matrix_factorization(R, P, Q, K)\n",
    "\n",
    "als = ALS(K,N,M,\"Users\",\"Movies\",\"Ratings\",lbda = 0.1,lbda2 = 0.1)\n",
    "print(\"Als created\")\n",
    "ans = als.fit(R_dict)\n",
    "\n",
    "# nR = np.dot(nP, nQ.T)\n",
    "\n",
    "# print(nP, \"\\n\\n\", nQ)"
   ]
  },
  {
   "cell_type": "code",
   "execution_count": 298,
   "metadata": {
    "collapsed": false
   },
   "outputs": [
    {
     "data": {
      "text/plain": [
       "array([[-0.37880262,  1.50583621, -0.05741615,  0.19387526],\n",
       "       [ 0.50503497,  1.64543512, -0.16794156,  0.39865735],\n",
       "       [ 0.19385991,  1.58984427,  0.22947934,  0.56469031],\n",
       "       ..., \n",
       "       [ 0.2761906 ,  1.57034482,  0.01695433,  0.84608037],\n",
       "       [-0.96228272,  1.98690826, -0.46119631,  0.81591362],\n",
       "       [ 0.38159942,  1.73811136, -0.18070141,  0.41598577]])"
      ]
     },
     "execution_count": 298,
     "metadata": {},
     "output_type": "execute_result"
    }
   ],
   "source": [
    "als.U"
   ]
  },
  {
   "cell_type": "code",
   "execution_count": 299,
   "metadata": {
    "collapsed": false
   },
   "outputs": [
    {
     "data": {
      "text/plain": [
       "array([[ 0.53382594,  1.9173947 , -0.11973658,  0.80145997],\n",
       "       [ 0.64076257,  1.76724287, -0.10308772,  0.12697815],\n",
       "       [ 0.0503946 ,  1.83190399,  0.06038393, -0.09617485],\n",
       "       ..., \n",
       "       [ 0.07371686,  2.25281382, -0.63204438, -0.48994526],\n",
       "       [ 0.04423011,  1.35168829, -0.37922663, -0.29396716],\n",
       "       [ 0.59999455,  1.6121403 , -1.14529409,  1.56907373]])"
      ]
     },
     "execution_count": 299,
     "metadata": {},
     "output_type": "execute_result"
    }
   ],
   "source": [
    "als.V"
   ]
  },
  {
   "cell_type": "code",
   "execution_count": 300,
   "metadata": {
    "collapsed": false
   },
   "outputs": [
    {
     "name": "stdout",
     "output_type": "stream",
     "text": [
      "[[ 2.97969555  2.8477148   2.93662863 ...,  3.13158502  2.69346455\n",
      "   2.88790878]\n",
      " [ 3.28347455  3.12949056  3.0273818  ...,  3.24727608  2.76287919\n",
      "   3.28658568]\n",
      " [ 3.22144249  3.02428634  2.99110453 ...,  3.08800142  2.66731439\n",
      "   3.13053818]\n",
      " ..., \n",
      " [ 3.30677122  3.04944551  2.96742491 ...,  3.07428426  2.65908409\n",
      "   3.36342769]\n",
      " [ 3.36331711  3.04549018  3.19098178 ...,  3.46000041  2.89051378\n",
      "   3.50549339]\n",
      " [ 3.32562658  3.15871551  3.08076493 ...,  3.3132967   2.80249156\n",
      "   3.32540123]]\n",
      "[[ 2.84732578  2.4489926   2.71734482 ...,  3.30574579  1.98344747\n",
      "   2.57030268]\n",
      " [ 3.76416599  3.29942447  2.9912484  ...,  3.65491481  2.19294888\n",
      "   3.77355573]\n",
      " [ 3.57694603  2.98190595  2.88175941 ...,  3.17420543  1.90452326\n",
      "   3.3025863 ]\n",
      " ..., \n",
      " [ 3.83447803  3.05783923  2.81029157 ...,  3.13280546  1.87968328\n",
      "   4.00547381]\n",
      " [ 4.00514006  3.0459016   3.48501209 ...,  4.29694146  2.57816488\n",
      "   4.43424453]\n",
      " [ 3.89138569  3.38762874  3.15236485 ...,  3.85417267  2.3125036\n",
      "   3.89070554]]\n"
     ]
    }
   ],
   "source": [
    "R_rec = np.dot(als.U,np.transpose(als.V))\n",
    "print((R_rec-np.min(R_rec))*5/np.max(R_rec-np.min(R_rec)))\n",
    "print(R_rec)"
   ]
  },
  {
   "cell_type": "code",
   "execution_count": 301,
   "metadata": {
    "collapsed": false
   },
   "outputs": [
    {
     "name": "stdout",
     "output_type": "stream",
     "text": [
      "0.699601251902\n",
      "0.962815858384\n"
     ]
    }
   ],
   "source": [
    "print(RMSE(R,R_rec))\n",
    "print(RMSE(R,(R_rec-np.min(R_rec))*5/np.max(R_rec-np.min(R_rec))))"
   ]
  },
  {
   "cell_type": "code",
   "execution_count": 302,
   "metadata": {
    "collapsed": false
   },
   "outputs": [
    {
     "name": "stdout",
     "output_type": "stream",
     "text": [
      "0.860274805339\n"
     ]
    }
   ],
   "source": [
    "print(RMSEvec(ground_truth, R_rec[:,321]))"
   ]
  },
  {
   "cell_type": "code",
   "execution_count": 303,
   "metadata": {
    "collapsed": false
   },
   "outputs": [
    {
     "data": {
      "text/plain": [
       "array([[ 0.,  0.,  0., ...,  0.,  0.,  0.],\n",
       "       [ 0.,  0.,  0., ...,  0.,  0.,  0.],\n",
       "       [ 0.,  0.,  0., ...,  0.,  0.,  0.],\n",
       "       ..., \n",
       "       [ 0.,  0.,  0., ...,  0.,  0.,  0.],\n",
       "       [ 4.,  0.,  0., ...,  0.,  0.,  0.],\n",
       "       [ 5.,  0.,  0., ...,  0.,  0.,  0.]])"
      ]
     },
     "execution_count": 303,
     "metadata": {},
     "output_type": "execute_result"
    }
   ],
   "source": [
    "R"
   ]
  },
  {
   "cell_type": "code",
   "execution_count": 304,
   "metadata": {
    "collapsed": false
   },
   "outputs": [
    {
     "data": {
      "text/plain": [
       "8.9448385522659937"
      ]
     },
     "execution_count": 304,
     "metadata": {},
     "output_type": "execute_result"
    }
   ],
   "source": [
    "np.max(R_rec)"
   ]
  },
  {
   "cell_type": "code",
   "execution_count": 305,
   "metadata": {
    "collapsed": false
   },
   "outputs": [
    {
     "name": "stdout",
     "output_type": "stream",
     "text": [
      "[[ 0.          0.          0.         ...,  0.          0.          0.        ]\n",
      " [ 0.          0.          0.         ...,  0.          0.          0.85569004]\n",
      " [ 0.          0.          0.         ...,  0.          0.          0.        ]\n",
      " ..., \n",
      " [ 0.          0.          0.         ...,  0.          0.          0.        ]\n",
      " [ 0.          0.          0.         ...,  0.          0.          0.        ]\n",
      " [ 0.          0.85569004  0.         ...,  0.          0.          0.        ]]\n"
     ]
    }
   ],
   "source": [
    "lp = LaplacianParams()\n",
    "\n",
    "# sim = similarity(als.U)\n",
    "sim = build_graph(als.U, GraphParams())\n",
    "# Seems to work better with U... \n",
    "\n",
    "print(sim)"
   ]
  },
  {
   "cell_type": "code",
   "execution_count": 306,
   "metadata": {
    "collapsed": false,
    "scrolled": true
   },
   "outputs": [
    {
     "name": "stdout",
     "output_type": "stream",
     "text": [
      "(671, 671)\n"
     ]
    }
   ],
   "source": [
    "L = build_laplacian(sim,lp)\n",
    "\n",
    "print(L.shape)"
   ]
  },
  {
   "cell_type": "code",
   "execution_count": 307,
   "metadata": {
    "collapsed": false
   },
   "outputs": [
    {
     "data": {
      "text/plain": [
       "(671,)"
      ]
     },
     "execution_count": 307,
     "metadata": {},
     "output_type": "execute_result"
    }
   ],
   "source": [
    "supp = 100\n",
    "test_vec = copy.deepcopy(R[:,321])*2\n",
    "# test_vec[:supp] = [0 for i in range(supp)]\n",
    "test_vec.shape"
   ]
  },
  {
   "cell_type": "code",
   "execution_count": 308,
   "metadata": {
    "collapsed": false
   },
   "outputs": [],
   "source": [
    "# test_vec"
   ]
  },
  {
   "cell_type": "code",
   "execution_count": 391,
   "metadata": {
    "collapsed": false
   },
   "outputs": [
    {
     "name": "stderr",
     "output_type": "stream",
     "text": [
      "/home/marc/anaconda3/lib/python3.5/site-packages/numpy/core/numeric.py:190: VisibleDeprecationWarning: using a non-integer number instead of an integer will result in an error in the future\n",
      "  a = empty(shape, dtype, order)\n"
     ]
    }
   ],
   "source": [
    "hfs0, confidence = simple_hfs(als.U, test_vec, L, sim)\n",
    "# hfs0/2"
   ]
  },
  {
   "cell_type": "code",
   "execution_count": 392,
   "metadata": {
    "collapsed": false
   },
   "outputs": [],
   "source": [
    "maxconfidences = np.array([max(confidence[i,:]) for i in range(len(confidence))])"
   ]
  },
  {
   "cell_type": "code",
   "execution_count": 395,
   "metadata": {
    "collapsed": false
   },
   "outputs": [
    {
     "name": "stdout",
     "output_type": "stream",
     "text": [
      "1.03717659736\n",
      "0.860070307208\n"
     ]
    }
   ],
   "source": [
    "lim = np.percentile(maxconfidences, 1)\n",
    "print(RMSEvec(ground_truth*(maxconfidences > lim),hfs0/2))\n",
    "print(RMSEvec(ground_truth*(maxconfidences > lim), R_rec[:,321]))"
   ]
  },
  {
   "cell_type": "code",
   "execution_count": 312,
   "metadata": {
    "collapsed": false
   },
   "outputs": [
    {
     "name": "stdout",
     "output_type": "stream",
     "text": [
      "0.778592375367\n",
      "0.663304293526\n"
     ]
    }
   ],
   "source": [
    "print(meanError(ground_truth,hfs0/2))\n",
    "print(meanError(ground_truth,R_rec[:,321]))"
   ]
  },
  {
   "cell_type": "code",
   "execution_count": 224,
   "metadata": {
    "collapsed": false
   },
   "outputs": [
    {
     "data": {
      "text/plain": [
       "array([[False, False, False, ..., False, False, False],\n",
       "       [False, False, False, ..., False, False, False],\n",
       "       [False, False, False, ..., False, False, False],\n",
       "       ..., \n",
       "       [False, False, False, ..., False, False, False],\n",
       "       [False, False, False, ...,  True, False, False],\n",
       "       [False, False, False, ..., False, False, False]], dtype=bool)"
      ]
     },
     "execution_count": 224,
     "metadata": {},
     "output_type": "execute_result"
    }
   ],
   "source": [
    "f_u > 0"
   ]
  },
  {
   "cell_type": "code",
   "execution_count": null,
   "metadata": {
    "collapsed": false
   },
   "outputs": [],
   "source": [
    "elmnt = 321\n",
    "val = []\n",
    "print(RMSEvec(R[:,elmnt],R_rec[:,elmnt]))\n",
    "for supp in range(1,671,10):\n",
    "    test_vec = copy.deepcopy(R[:,elmnt])*2\n",
    "    test_vec[:supp] = [0 for i in range(supp)]\n",
    "\n",
    "    hfs0 = simple_hfs(als.U, test_vec, L, sim)\n",
    "    val.append(RMSEvec(R[:,elmnt],hfs0/2))\n",
    "    \n",
    "plt.plot(range(1,671,10),val)"
   ]
  },
  {
   "cell_type": "code",
   "execution_count": 411,
   "metadata": {
    "collapsed": false
   },
   "outputs": [
    {
     "name": "stdout",
     "output_type": "stream",
     "text": [
      "0\n"
     ]
    },
    {
     "name": "stderr",
     "output_type": "stream",
     "text": [
      "/home/marc/anaconda3/lib/python3.5/site-packages/numpy/core/numeric.py:190: VisibleDeprecationWarning: using a non-integer number instead of an integer will result in an error in the future\n",
      "  a = empty(shape, dtype, order)\n"
     ]
    },
    {
     "name": "stdout",
     "output_type": "stream",
     "text": [
      "1000\n",
      "2000\n",
      "3000\n",
      "4000\n",
      "5000\n",
      "6000\n",
      "7000\n",
      "8000\n",
      "9000\n"
     ]
    }
   ],
   "source": [
    "lhfs = []\n",
    "lconf = []\n",
    "for i in range(len(R[0])):\n",
    "    if i%1000 == 0:\n",
    "        print(i)\n",
    "    hfs0, confidence = simple_hfs(als.U, R[:,i]*2, L, sim)\n",
    "    maxconfidences = np.array([max(confidence[i,:]) for i in range(len(confidence))])\n",
    "    \n",
    "    lim = np.percentile(maxconfidences, 90)\n",
    "    \n",
    "    lhfs.append(hfs0/2)\n",
    "    lconf.append(maxconfidences > lim)\n",
    "\n",
    "R_barre = np.vstack(lhfs).T\n",
    "confs = np.vstack(lconf).T\n",
    "    \n",
    "# R_barre[R_barre < 1] = .5\n",
    "# R_barre[R_barre > 5] = 5"
   ]
  },
  {
   "cell_type": "code",
   "execution_count": 412,
   "metadata": {
    "collapsed": false
   },
   "outputs": [],
   "source": [
    "R_barre_limited = R_barre * confs"
   ]
  },
  {
   "cell_type": "code",
   "execution_count": 413,
   "metadata": {
    "collapsed": false
   },
   "outputs": [
    {
     "data": {
      "text/plain": [
       "array([ 0. ,  0.5,  1. ,  1.5,  2. ,  2.5,  3. ,  3.5,  4. ,  4.5,  5. ])"
      ]
     },
     "execution_count": 413,
     "metadata": {},
     "output_type": "execute_result"
    }
   ],
   "source": [
    "np.unique(R_barre_limited)"
   ]
  },
  {
   "cell_type": "code",
   "execution_count": 414,
   "metadata": {
    "collapsed": false
   },
   "outputs": [
    {
     "name": "stdout",
     "output_type": "stream",
     "text": [
      "0.538118818044\n"
     ]
    }
   ],
   "source": [
    "print(RMSE(R_barre_limited,R_rec))"
   ]
  },
  {
   "cell_type": "code",
   "execution_count": 416,
   "metadata": {
    "collapsed": false
   },
   "outputs": [
    {
     "data": {
      "text/plain": [
       "588003"
      ]
     },
     "execution_count": 416,
     "metadata": {},
     "output_type": "execute_result"
    }
   ],
   "source": [
    "np.sum(R_barre_limited != 0)"
   ]
  },
  {
   "cell_type": "code",
   "execution_count": 417,
   "metadata": {
    "collapsed": false
   },
   "outputs": [
    {
     "data": {
      "text/plain": [
       "99666"
      ]
     },
     "execution_count": 417,
     "metadata": {},
     "output_type": "execute_result"
    }
   ],
   "source": [
    "np.sum(R != 0)"
   ]
  },
  {
   "cell_type": "code",
   "execution_count": null,
   "metadata": {
    "collapsed": true
   },
   "outputs": [],
   "source": []
  }
 ],
 "metadata": {
  "anaconda-cloud": {},
  "kernelspec": {
   "display_name": "Python [conda root]",
   "language": "python",
   "name": "conda-root-py"
  },
  "language_info": {
   "codemirror_mode": {
    "name": "ipython",
    "version": 3
   },
   "file_extension": ".py",
   "mimetype": "text/x-python",
   "name": "python",
   "nbconvert_exporter": "python",
   "pygments_lexer": "ipython3",
   "version": "3.5.2"
  }
 },
 "nbformat": 4,
 "nbformat_minor": 1
}

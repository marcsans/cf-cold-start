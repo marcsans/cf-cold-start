{
 "cells": [
  {
   "cell_type": "code",
   "execution_count": 237,
   "metadata": {
    "collapsed": false
   },
   "outputs": [
    {
     "name": "stdout",
     "output_type": "stream",
     "text": [
      "The autoreload extension is already loaded. To reload it, use:\n",
      "  %reload_ext autoreload\n"
     ]
    }
   ],
   "source": [
    "%load_ext autoreload\n",
    "%autoreload 2\n",
    "%matplotlib inline\n",
    "\n",
    "import numpy as np\n",
    "from matrix_factorization import matrix_factorization\n",
    "from graph_init import *\n",
    "from similarity import *\n",
    "from create_R import *\n",
    "from ALS import *\n",
    "from hard_hfs import *\n",
    "import copy\n",
    "import matplotlib.pyplot as plt"
   ]
  },
  {
   "cell_type": "code",
   "execution_count": 238,
   "metadata": {
    "collapsed": true
   },
   "outputs": [],
   "source": [
    "def RMSE(ground, predict):\n",
    "    \n",
    "    error = 0\n",
    "    n = 0\n",
    "    \n",
    "    for i in range(len(ground)):\n",
    "        for j in range(len(ground[0])):\n",
    "            if ground[i,j] != 0:\n",
    "                error += (ground[i,j] - predict[i,j])**2\n",
    "                n += 1\n",
    "                \n",
    "    return np.sqrt(error/n)\n",
    "\n",
    "def RMSEvec(ground, predict):\n",
    "    \n",
    "    error = 0\n",
    "    n = 0\n",
    "    \n",
    "    for i in range(len(ground)):\n",
    "        if ground[i] != 0:\n",
    "            error += (ground[i] - predict[i])**2\n",
    "            n += 1\n",
    "                \n",
    "    return np.sqrt(error/n)\n",
    "\n",
    "def meanError(ground_truth,new_res):\n",
    "    return np.mean(abs((new_res - ground_truth)[ground_truth!=0]))\n",
    "\n",
    "def dictfromR(R):\n",
    "\n",
    "    R_dict = {\"Users\": np.empty([0]), \"Movies\": np.empty([0]), \"Ratings\": np.empty([0])}\n",
    "\n",
    "    for i in range(len(R)):\n",
    "        for j in range(len(R[0])):\n",
    "            if R[i,j] != 0:\n",
    "                R_dict[\"Users\"] = np.append(R_dict[\"Users\"],i)\n",
    "                R_dict[\"Movies\"] = np.append(R_dict[\"Movies\"],j)\n",
    "                R_dict[\"Ratings\"] = np.append(R_dict[\"Ratings\"],R[i,j])\n",
    "\n",
    "    return R_dict"
   ]
  },
  {
   "cell_type": "code",
   "execution_count": 239,
   "metadata": {
    "collapsed": false
   },
   "outputs": [
    {
     "name": "stderr",
     "output_type": "stream",
     "text": [
      "/home/marc/Documents/MVA/ProjetGraphes/src/create_R.py:21: VisibleDeprecationWarning: using a non-integer number instead of an integer will result in an error in the future\n",
      "  R[ratingsnp[i,0]-1, ratingsnp[i,-1]] = ratingsnp[i,2]\n"
     ]
    },
    {
     "name": "stdout",
     "output_type": "stream",
     "text": [
      "{'Movies': array([   30.,   833.,   859., ...,  4597.,  4610.,  4696.]), 'Users': array([   0.,    0.,    0., ...,  670.,  670.,  670.]), 'Ratings': array([ 2.5,  3. ,  3. , ...,  4. ,  2.5,  3.5])}\n"
     ]
    }
   ],
   "source": [
    "R,R_dict = create_R()\n",
    "\n",
    "print(R_dict)"
   ]
  },
  {
   "cell_type": "code",
   "execution_count": 240,
   "metadata": {
    "collapsed": false
   },
   "outputs": [
    {
     "name": "stdout",
     "output_type": "stream",
     "text": [
      "[[False False False ..., False False False]\n",
      " [False False False ..., False False False]\n",
      " [False False False ..., False False False]\n",
      " ..., \n",
      " [False False False ..., False False False]\n",
      " [ True False False ..., False False False]\n",
      " [ True False False ..., False False False]]\n"
     ]
    }
   ],
   "source": [
    "P_dict = copy.deepcopy(R_dict)\n",
    "P_dict[\"Ratings\"] = np.ones([len(R_dict[\"Ratings\"])])\n",
    "P = R > 0\n",
    "print(P)"
   ]
  },
  {
   "cell_type": "code",
   "execution_count": 241,
   "metadata": {
    "collapsed": false
   },
   "outputs": [],
   "source": [
    "to_keep = 99.99/100\n",
    "\n",
    "iss, js = np.where(R > 0.1)\n",
    "n_ratings = len(js)\n",
    "ground_truth = copy.deepcopy(R)\n",
    "shuf = np.array(range(n_ratings))\n",
    "iss = iss[shuf]\n",
    "js = js[shuf]\n",
    "\n",
    "deleted_i = []\n",
    "deleted_j = []\n",
    "deleted = 0\n",
    "i = 0\n",
    "while deleted < len(iss)*(1-to_keep):\n",
    "    if np.sum(R[iss[i]] > 0.1) > 1 and np.sum(R[:,js[i]] > 0.1) > 1:\n",
    "        R[iss[i],js[i]] = 0\n",
    "        deleted += 1\n",
    "        deleted_i.append(iss[i])\n",
    "        deleted_j.append(js[i])\n",
    "    i += 1\n",
    "        \n",
    "    \n",
    "# deleted_i = iss[:len(iss)*(1-to_keep)]\n",
    "# deleted_j = js[:len(js)*(1-to_keep)]\n",
    "# R[deleted_i, deleted_j] = 0"
   ]
  },
  {
   "cell_type": "code",
   "execution_count": 242,
   "metadata": {
    "collapsed": false
   },
   "outputs": [
    {
     "data": {
      "text/plain": [
       "99993"
      ]
     },
     "execution_count": 242,
     "metadata": {},
     "output_type": "execute_result"
    }
   ],
   "source": [
    "np.sum(R != 0)"
   ]
  },
  {
   "cell_type": "code",
   "execution_count": 243,
   "metadata": {
    "collapsed": true
   },
   "outputs": [],
   "source": [
    "R_dictCopy = copy.deepcopy(R_dict)\n",
    "R_dict = dictfromR(R)"
   ]
  },
  {
   "cell_type": "code",
   "execution_count": 244,
   "metadata": {
    "collapsed": false
   },
   "outputs": [
    {
     "name": "stdout",
     "output_type": "stream",
     "text": [
      "0.674199862463\n"
     ]
    }
   ],
   "source": [
    "print(RMSEvec(ground_truth[deleted_i,deleted_j],2.5*np.ones(len(deleted_i))))"
   ]
  },
  {
   "cell_type": "code",
   "execution_count": 245,
   "metadata": {
    "collapsed": false
   },
   "outputs": [
    {
     "name": "stdout",
     "output_type": "stream",
     "text": [
      "Als created\n"
     ]
    }
   ],
   "source": [
    "N = len(R)\n",
    "M = len(R[0])\n",
    "K = 4\n",
    "\n",
    "als = ALS(K,N,M,\"Users\",\"Movies\",\"Ratings\",lbda = 0.1,lbda2 = 0.1)\n",
    "print(\"Als created\")\n",
    "ans = als.fit(R_dict)"
   ]
  },
  {
   "cell_type": "code",
   "execution_count": 246,
   "metadata": {
    "collapsed": false
   },
   "outputs": [],
   "source": [
    "R_rec = np.dot(als.U,np.transpose(als.V))"
   ]
  },
  {
   "cell_type": "code",
   "execution_count": 247,
   "metadata": {
    "collapsed": false
   },
   "outputs": [
    {
     "name": "stdout",
     "output_type": "stream",
     "text": [
      "0.91409271283\n"
     ]
    }
   ],
   "source": [
    "print(RMSEvec(ground_truth[deleted_i,deleted_j],R_rec[deleted_i,deleted_j]))"
   ]
  },
  {
   "cell_type": "code",
   "execution_count": 248,
   "metadata": {
    "collapsed": false
   },
   "outputs": [
    {
     "data": {
      "text/plain": [
       "array([ 2.32561328,  2.53736249,  2.3614722 ,  2.10516956,  1.96307568,\n",
       "        2.90948693,  2.33174968,  2.80083811,  2.40215483,  2.6283304 ,\n",
       "        1.40441431])"
      ]
     },
     "execution_count": 248,
     "metadata": {},
     "output_type": "execute_result"
    }
   ],
   "source": [
    "R_rec[deleted_i,deleted_j]"
   ]
  },
  {
   "cell_type": "code",
   "execution_count": null,
   "metadata": {
    "collapsed": true
   },
   "outputs": [],
   "source": []
  },
  {
   "cell_type": "code",
   "execution_count": 249,
   "metadata": {
    "collapsed": false
   },
   "outputs": [],
   "source": [
    "lp = LaplacianParams()\n",
    "\n",
    "# sim = similarity(als.U)\n",
    "sim = build_graph(als.U, GraphParams())\n",
    "# Seems to work better with U... \n",
    "L = build_laplacian(sim,lp)"
   ]
  },
  {
   "cell_type": "code",
   "execution_count": 250,
   "metadata": {
    "collapsed": false
   },
   "outputs": [
    {
     "name": "stdout",
     "output_type": "stream",
     "text": [
      "0\n"
     ]
    },
    {
     "name": "stderr",
     "output_type": "stream",
     "text": [
      "/home/marc/anaconda3/lib/python3.5/site-packages/numpy/core/numeric.py:190: VisibleDeprecationWarning: using a non-integer number instead of an integer will result in an error in the future\n",
      "  a = empty(shape, dtype, order)\n"
     ]
    },
    {
     "name": "stdout",
     "output_type": "stream",
     "text": [
      "1000\n",
      "2000\n",
      "3000\n",
      "4000\n",
      "5000\n",
      "6000\n",
      "7000\n",
      "8000\n",
      "9000\n"
     ]
    }
   ],
   "source": [
    "lhfs = []\n",
    "lconf = []\n",
    "for i in range(len(R[0])):\n",
    "    if i%1000 == 0:\n",
    "        print(i)\n",
    "    hfs0, confidence = simple_hfs(als.U, R[:,i]*2, L, sim)\n",
    "    maxconfidences = np.array([max(confidence[i,:]) for i in range(len(confidence))])\n",
    "    \n",
    "    lim = np.percentile(maxconfidences, 90)\n",
    "    \n",
    "    lhfs.append(hfs0/2)\n",
    "    lconf.append(maxconfidences > lim)\n",
    "\n",
    "R_barre = np.vstack(lhfs).T\n",
    "confs = np.vstack(lconf).T"
   ]
  },
  {
   "cell_type": "code",
   "execution_count": 251,
   "metadata": {
    "collapsed": false
   },
   "outputs": [
    {
     "name": "stdout",
     "output_type": "stream",
     "text": [
      "1.78376517003\n"
     ]
    }
   ],
   "source": [
    "print(RMSEvec(ground_truth[deleted_i,deleted_j],R_barre[deleted_i,deleted_j]))"
   ]
  },
  {
   "cell_type": "code",
   "execution_count": null,
   "metadata": {
    "collapsed": false
   },
   "outputs": [],
   "source": []
  },
  {
   "cell_type": "code",
   "execution_count": 252,
   "metadata": {
    "collapsed": true
   },
   "outputs": [],
   "source": [
    "R_barre_limited = R_barre * confs\n",
    "R_barre_final = copy.deepcopy(R_barre_limited)\n",
    "R_barre_final[R != 0] = 0\n",
    "# R_dict_barre = dictfromR(R_barre_final)"
   ]
  },
  {
   "cell_type": "code",
   "execution_count": 253,
   "metadata": {
    "collapsed": false
   },
   "outputs": [
    {
     "name": "stdout",
     "output_type": "stream",
     "text": [
      "Als created\n"
     ]
    }
   ],
   "source": [
    "N = len(R)\n",
    "M = len(R[0])\n",
    "K = 4\n",
    "\n",
    "als_trans = ALS(K,N,M,\"Users\",\"Movies\",\"Ratings\",lbda = 0.1,lbda2 = 0.1)\n",
    "print(\"Als created\")\n",
    "ans = als_trans.fitTransductive(R_dict,R_barre_final,C1=1,C2=.1)\n",
    "\n",
    "R_rec_trans = np.dot(als_trans.U,np.transpose(als_trans.V))"
   ]
  },
  {
   "cell_type": "code",
   "execution_count": 254,
   "metadata": {
    "collapsed": false
   },
   "outputs": [
    {
     "name": "stdout",
     "output_type": "stream",
     "text": [
      "0.95859828853\n"
     ]
    }
   ],
   "source": [
    "print(RMSEvec(ground_truth[deleted_i,deleted_j],R_rec_trans[deleted_i,deleted_j]))"
   ]
  },
  {
   "cell_type": "code",
   "execution_count": null,
   "metadata": {
    "collapsed": true
   },
   "outputs": [],
   "source": []
  },
  {
   "cell_type": "code",
   "execution_count": 262,
   "metadata": {
    "collapsed": true
   },
   "outputs": [],
   "source": [
    "enleves = np.array([10, 5, 5, 5, 1, 0.1, 0.01])\n",
    "RMSEhfs = np.array([1.29175583478, 1.30757716728, 1.44788836719, 1.4249715405, 1.43950610356,1.26059863196, 1.78376517003])\n",
    "RMSErand = np.array([1.48679317479, 1.43092295107, 1.43092295107, 1.43092295107, 1.58074389094, 1.2645196325, 0.674199862463])\n",
    "RMSEals = np.array([2.78447829049, 4.42410671792, 3.11900504497, 3.36009286288, 2.97774025308,1.06654905746, 0.91409271283])\n",
    "RMSEtrans = np.array([-1,-1, 1.32641438877, 1.43307918684, 1.62984802727, 1.07843682215, 0.95859828853])"
   ]
  },
  {
   "cell_type": "markdown",
   "metadata": {},
   "source": [
    "<b>Transductive</b>\n",
    "\n",
    "5% - 1 - 0.1 - 1.32641438877 \n",
    "\n",
    "5% - 1 - 1   - 1.43307918684 \n",
    "\n",
    "1% - 1 - 0.1   - 1.62984802727 \n",
    "\n",
    "0.1% - 1 - 0.1   - 1.07843682215 \n",
    "\n",
    "0.01% - 1 - 0.1   - 0.95859828853 "
   ]
  },
  {
   "cell_type": "code",
   "execution_count": 265,
   "metadata": {
    "collapsed": false
   },
   "outputs": [
    {
     "data": {
      "text/plain": [
       "[<matplotlib.lines.Line2D at 0x7f24314957b8>]"
      ]
     },
     "execution_count": 265,
     "metadata": {},
     "output_type": "execute_result"
    },
    {
     "data": {
      "image/png": "[encoded data removed]",
      "text/plain": [
       "<matplotlib.figure.Figure at 0x7f2428f4d240>"
      ]
     },
     "metadata": {},
     "output_type": "display_data"
    }
   ],
   "source": [
    "plt.plot(np.unique(enleves), [np.mean(RMSEhfs[np.where(enleves == i)]) for i in np.unique(enleves)])\n",
    "plt.plot(np.unique(enleves), [np.mean(RMSErand[np.where(enleves == i)]) for i in np.unique(enleves)])\n",
    "plt.plot(np.unique(enleves), [np.mean(RMSEals[np.where(enleves == i)]) for i in np.unique(enleves)])\n",
    "plt.plot(np.unique(enleves), [np.mean(RMSEtrans[np.where(enleves == i)]) for i in np.unique(enleves)])"
   ]
  },
  {
   "cell_type": "code",
   "execution_count": 261,
   "metadata": {
    "collapsed": false
   },
   "outputs": [
    {
     "data": {
      "text/plain": [
       "(array([], dtype=int64),)"
      ]
     },
     "execution_count": 261,
     "metadata": {},
     "output_type": "execute_result"
    }
   ],
   "source": [
    "np.where(enleves == 0.01)"
   ]
  },
  {
   "cell_type": "code",
   "execution_count": null,
   "metadata": {
    "collapsed": true
   },
   "outputs": [],
   "source": []
  }
 ],
 "metadata": {
  "anaconda-cloud": {},
  "kernelspec": {
   "display_name": "Python [conda root]",
   "language": "python",
   "name": "conda-root-py"
  },
  "language_info": {
   "codemirror_mode": {
    "name": "ipython",
    "version": 3
   },
   "file_extension": ".py",
   "mimetype": "text/x-python",
   "name": "python",
   "nbconvert_exporter": "python",
   "pygments_lexer": "ipython3",
   "version": "3.5.2"
  }
 },
 "nbformat": 4,
 "nbformat_minor": 1
}

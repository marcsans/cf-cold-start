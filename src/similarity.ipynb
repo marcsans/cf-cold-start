{
 "cells": [
  {
   "cell_type": "code",
   "execution_count": null,
   "metadata": {
    "collapsed": true
   },
   "outputs": [],
   "source": [
    "import numpy as np\n",
    "import pandas as pd"
   ]
  },
  {
   "cell_type": "code",
   "execution_count": null,
   "metadata": {
    "collapsed": false
   },
   "outputs": [],
   "source": [
    "def similarity(U):\n",
    "    num_users = U.shape[0]\n",
    "    dist = np.zeros((num_users, num_users))\n",
    "    for i in range(num_users):\n",
    "        for j in range(i):\n",
    "            dist[i,j] = np.abs(np.dot(U[i,:], U[j,:].T))/(np.linalg.norm(U[i,:])*np.linalg.norm(U[j,:]))\n",
    "            dist[j,i] = np.abs(np.dot(U[i,:], U[j,:].T))/(np.linalg.norm(U[i,:])*np.linalg.norm(U[j,:]))\n",
    "    return dist"
   ]
  }
 ],
 "metadata": {
  "kernelspec": {
   "display_name": "Python 3",
   "language": "python",
   "name": "python3"
  },
  "language_info": {
   "codemirror_mode": {
    "name": "ipython",
    "version": 3
   },
   "file_extension": ".py",
   "mimetype": "text/x-python",
   "name": "python",
   "nbconvert_exporter": "python",
   "pygments_lexer": "ipython3",
   "version": "3.5.2+"
  }
 },
 "nbformat": 4,
 "nbformat_minor": 2
}

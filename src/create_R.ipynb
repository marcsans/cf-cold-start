{
 "cells": [
  {
   "cell_type": "code",
   "execution_count": 24,
   "metadata": {
    "collapsed": false
   },
   "outputs": [],
   "source": [
    "def create_R(moviesstr = \"../data/ml-latest-small/movies.csv\", ratingsstr = \"../data/ml-latest-small/ratings.csv\"):\n",
    "    \n",
    "    import numpy as np\n",
    "    import pandas as pd\n",
    "    \n",
    "    movies = pd.read_csv(moviesstr)\n",
    "    ratings = pd.read_csv(ratingsstr)\n",
    "    \n",
    "    ratings['TrueMovieId'] = ratings['movieId'].map(lambda i: movies[movies.movieId == i].index.tolist()[0])\n",
    "    R = np.zeros([len(np.unique(ratings['userId'])),len(movies)])\n",
    "    \n",
    "    ratingsnp = np.asarray(ratings)\n",
    "    \n",
    "    for i in range(len(ratings)):\n",
    "        R[ratingsnp[i,0]-1, ratingsnp[i,-1]] = ratingsnp[i,2]\n",
    "    \n",
    "    return R"
   ]
  }
 ],
 "metadata": {
  "anaconda-cloud": {},
  "kernelspec": {
   "display_name": "Python [conda root]",
   "language": "python",
   "name": "conda-root-py"
  },
  "language_info": {
   "codemirror_mode": {
    "name": "ipython",
    "version": 3
   },
   "file_extension": ".py",
   "mimetype": "text/x-python",
   "name": "python",
   "nbconvert_exporter": "python",
   "pygments_lexer": "ipython3",
   "version": "3.5.2"
  }
 },
 "nbformat": 4,
 "nbformat_minor": 1
}

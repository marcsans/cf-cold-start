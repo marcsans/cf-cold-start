{
 "cells": [
  {
   "cell_type": "code",
   "execution_count": 1,
   "metadata": {
    "collapsed": false
   },
   "outputs": [],
   "source": [
    "def create_R(ratingsstr = \"../data/ml-latest-small/ratings.csv\"):\n",
    "    \n",
    "    import numpy as np\n",
    "    import pandas as pd\n",
    "    \n",
    "    ratings = pd.read_csv(ratingsstr)\n",
    "    \n",
    "    uniqueRatings = np.unique(ratings['movieId'])\n",
    "    ratings['TrueMovieId'] = ratings['movieId'].map(lambda i: np.argmin(abs(uniqueRatings - i)))\n",
    "    R = np.zeros([len(np.unique(ratings['userId'])),len(uniqueRatings)])\n",
    "    R_dict = {\"Users\": np.empty([0]), \"Movies\": np.empty([0]), \"Ratings\": np.empty([0])}\n",
    "    \n",
    "    ratingsnp = np.asarray(ratings)\n",
    "    \n",
    "    for i in range(len(ratings)):\n",
    "        R[ratingsnp[i,0]-1, ratingsnp[i,-1]] = ratingsnp[i,2]\n",
    "        R_dict[\"Users\"] = np.append(R_dict[\"Users\"],ratingsnp[i,0]-1)\n",
    "        R_dict[\"Movies\"] = np.append(R_dict[\"Movies\"],ratingsnp[i,-1])\n",
    "        R_dict[\"Ratings\"] = np.append(R_dict[\"Ratings\"],ratingsnp[i,2])\n",
    "    \n",
    "    return R, R_dict\n"
   ]
  },
  {
   "cell_type": "code",
   "execution_count": 2,
   "metadata": {
    "collapsed": false
   },
   "outputs": [
    {
     "name": "stdout",
     "output_type": "stream",
     "text": [
      "0           30\n",
      "1          833\n",
      "2          859\n",
      "3          906\n",
      "4          931\n",
      "5         1017\n",
      "6         1041\n",
      "7         1047\n",
      "8         1083\n",
      "9         1087\n",
      "10        1111\n",
      "11        1140\n",
      "12        1515\n",
      "13        1665\n",
      "14        1708\n",
      "15        1743\n",
      "16        1815\n",
      "17        1962\n",
      "18        2380\n",
      "19        2925\n",
      "20           9\n",
      "21          16\n",
      "22          37\n",
      "23          45\n",
      "24          48\n",
      "25          49\n",
      "26          58\n",
      "27         100\n",
      "28         123\n",
      "29         129\n",
      "          ... \n",
      "99974     3233\n",
      "99975     3419\n",
      "99976     3420\n",
      "99977     3800\n",
      "99978     3803\n",
      "99979     3810\n",
      "99980     3845\n",
      "99981     3854\n",
      "99982     3869\n",
      "99983     3871\n",
      "99984     3882\n",
      "99985     3999\n",
      "99986     4051\n",
      "99987     4081\n",
      "99988     4098\n",
      "99989     4135\n",
      "99990     4147\n",
      "99991     4255\n",
      "99992     4321\n",
      "99993     4367\n",
      "99994     4391\n",
      "99995     4412\n",
      "99996     4413\n",
      "99997     4417\n",
      "99998     4507\n",
      "99999     4545\n",
      "100000    4546\n",
      "100001    4597\n",
      "100002    4610\n",
      "100003    4696\n",
      "Name: TrueMovieId, dtype: int64\n"
     ]
    },
    {
     "name": "stderr",
     "output_type": "stream",
     "text": [
      "/home/marc/anaconda3/lib/python3.5/site-packages/ipykernel/__main__.py:18: VisibleDeprecationWarning: using a non-integer number instead of an integer will result in an error in the future\n"
     ]
    }
   ],
   "source": [
    "R, rd = create_R()"
   ]
  },
  {
   "cell_type": "code",
   "execution_count": 4,
   "metadata": {
    "collapsed": false
   },
   "outputs": [
    {
     "data": {
      "text/plain": [
       "(671, 9125)"
      ]
     },
     "execution_count": 4,
     "metadata": {},
     "output_type": "execute_result"
    }
   ],
   "source": [
    "R.shape"
   ]
  },
  {
   "cell_type": "code",
   "execution_count": null,
   "metadata": {
    "collapsed": true
   },
   "outputs": [],
   "source": []
  }
 ],
 "metadata": {
  "anaconda-cloud": {},
  "kernelspec": {
   "display_name": "Python [conda root]",
   "language": "python",
   "name": "conda-root-py"
  },
  "language_info": {
   "codemirror_mode": {
    "name": "ipython",
    "version": 3
   },
   "file_extension": ".py",
   "mimetype": "text/x-python",
   "name": "python",
   "nbconvert_exporter": "python",
   "pygments_lexer": "ipython3",
   "version": "3.5.2"
  }
 },
 "nbformat": 4,
 "nbformat_minor": 1
}

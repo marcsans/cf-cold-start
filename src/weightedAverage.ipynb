{
 "cells": [
  {
   "cell_type": "code",
   "execution_count": 1,
   "metadata": {
    "collapsed": true
   },
   "outputs": [],
   "source": [
    "import numpy as np\n",
    "from similarity import similarity"
   ]
  },
  {
   "cell_type": "code",
   "execution_count": 2,
   "metadata": {
    "collapsed": true
   },
   "outputs": [],
   "source": [
    "def weightedAverage(neighbors, similarities, R, user, product):\n",
    "    if neighbors==[]:\n",
    "        print('no neighbor provided')\n",
    "    sumWeights = 0\n",
    "    average = 0\n",
    "    for n in neighbors:\n",
    "        if R(n,product)!=0:\n",
    "            w = similarities(n, user)\n",
    "            sumWeights = sumWeights + w\n",
    "            average = average + w * R(n,product)\n",
    "    average = average / sumWeights\n",
    "    return average\n",
    "        "
   ]
  },
  {
   "cell_type": "code",
   "execution_count": null,
   "metadata": {
    "collapsed": true
   },
   "outputs": [],
   "source": []
  }
 ],
 "metadata": {
  "kernelspec": {
   "display_name": "Python [default]",
   "language": "python",
   "name": "python3"
  },
  "language_info": {
   "codemirror_mode": {
    "name": "ipython",
    "version": 3
   },
   "file_extension": ".py",
   "mimetype": "text/x-python",
   "name": "python",
   "nbconvert_exporter": "python",
   "pygments_lexer": "ipython3",
   "version": "3.5.2"
  }
 },
 "nbformat": 4,
 "nbformat_minor": 1
}
